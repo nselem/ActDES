{
 "cells": [
  {
   "cell_type": "markdown",
   "metadata": {},
   "source": [
    "# ActDES jupyter Notebook\n",
    "\n",
    "This is a jupyter notebook to ilustrate how ActDES works. ActDES is a perl script that process RAST functional annotation, RAST files must be downloaded from RAST server as described in GitHub tutorial. In this notebook we are going to use the test data set included in GitHub. "
   ]
  },
  {
   "cell_type": "markdown",
   "metadata": {},
   "source": [
    "1. Lets use the comand `ls ` to observe that ActDES GitHub contains directories data and output."
   ]
  },
  {
   "cell_type": "code",
   "execution_count": 5,
   "metadata": {},
   "outputs": [
    {
     "name": "stdout",
     "output_type": "stream",
     "text": [
      "ActDES.ipynb  \u001b[0m\u001b[01;34mdata\u001b[0m/  \u001b[01;34mimages\u001b[0m/  \u001b[01;34moutput\u001b[0m/  README.md  \u001b[01;34msrc\u001b[0m/\r\n"
     ]
    }
   ],
   "source": [
    "ls "
   ]
  },
  {
   "cell_type": "markdown",
   "metadata": {},
   "source": [
    "We will focus on data, output and src directories. Lets start with data.  \n",
    "2. Using `ls data` we noted that there are two files and two directories: annotations and bindings"
   ]
  },
  {
   "cell_type": "code",
   "execution_count": 6,
   "metadata": {},
   "outputs": [
    {
     "name": "stdout",
     "output_type": "stream",
     "text": [
      "20180412_ID_all_species  \u001b[0m\u001b[01;34mannotations\u001b[0m/  \u001b[01;34mbindings\u001b[0m/  headIDs\r\n"
     ]
    }
   ],
   "source": [
    "ls data"
   ]
  },
  {
   "cell_type": "markdown",
   "metadata": {},
   "source": [
    "### The IDs file \n",
    "In this case, the Ids file is the file \"20180412_ID_all_species\". All IDs files must contain in three columns RAST JobId, RAST genome Id and finally the organism´s name."
   ]
  },
  {
   "cell_type": "code",
   "execution_count": 9,
   "metadata": {},
   "outputs": [
    {
     "name": "stdout",
     "output_type": "stream",
     "text": [
      "\r\n",
      "\r\n",
      "\r\n",
      "\r\n",
      "\r\n",
      "\r\n",
      "\r\n",
      "\r\n",
      "\r\n",
      "\r\n"
     ]
    }
   ],
   "source": [
    "!head data/20180412_ID_all_species"
   ]
  },
  {
   "cell_type": "markdown",
   "metadata": {},
   "source": [
    "### Annotation directory\n",
    "The annotation directory contains the functional RAST annotation files of all genomes in the IDs file"
   ]
  },
  {
   "cell_type": "code",
   "execution_count": 16,
   "metadata": {},
   "outputs": [
    {
     "name": "stdout",
     "output_type": "stream",
     "text": [
      "220925.txt  220933.txt\t221022.txt  221048.txt\t221059.txt\r\n",
      "220932.txt  220965.txt\t221031.txt  221050.txt\t221107.txt\r\n"
     ]
    }
   ],
   "source": [
    "!ls data/annotations"
   ]
  },
  {
   "cell_type": "code",
   "execution_count": 17,
   "metadata": {},
   "outputs": [
    {
     "name": "stdout",
     "output_type": "stream",
     "text": [
      "contig_id\tfeature_id\ttype\tlocation\tstart\tstop\tstrand\tfunction\taliases\tfigfam\tevidence_codes\tnucleotide_sequence\taa_sequence\r\n",
      "gi|512025798|gb|AGWM01000015.1|\tfig|6666666.104566.peg.1\tpeg\tgi|512025798|gb|AGWM01000015.1|_1303_17\t1303\t17\t-\tMobile element protein\t\tFIG01306568\tff\tgtgggcttcgagcaggctattagagacaacgtattcgagcagttggttttagccagaattgttgaaccggcctcgaaagccgacacgatccgtatcctcgacgagctcggggttgagcacgcgagtttgcgtaccatattcactaccctgcgtcgttgcgcggataaagactaccgatcccaactcgcccgggcgtgtttcgaccacgccacaaaatccggggatttatcactggtgttgtatgacgtgactaccttgtatttcgaagctgaacgcgaggacgaggacggggacgcgaatgagggattacgtaaagtcgggtactcgaaagaaagacgtgttgatcctcaaatcgtggtgggtttgctggtagaccgtggcgggtttcctttggagatcggttgttttgagggtaacaaagccgaaactaaaaccattctcccagtcgtgaaaggctttcaagcccgtcacgggttagatagtttcgtggtggtagcagatgccggaatgctcagcgccaacaatctcaaggaattagacgcagccgggttcaggttcatagtcggggccaggcaaaccaaagcaccttacgacctggaatcccatttccactggcatggcgcgtcttttactgacgggcagattatcgacacggtcacgcccaggcatgccaatacgaaagtcaatgacaagttgaaggaagacgagcctgtgtgggatgagactatggtcaagtcctggcgggctatctggcagtactccgcaaggcgagcccgcagggatggactcaccctggaagcccaacgccggcgtgctatggagacgatagaaggcgtcaagcccgcgcgtaaacccaggttcgtgaaaaccactcgtaacggttgtagtttcgatgaggtggcctttgaacgcgcccggagactcgaaggattgaaaggctatgtcactaatatcccggccgtggtagctccggcaacgcaaatcgttgattcctaccacgaattgtggcacgtggaacagtctttccgtatgtctaaatcggatttacgagccaggccgatattccaccggaaacgtgaagcaatcgaagcgcacctgaccgtggtgatggcggctttggctatctcccgttatctctaccagaaaaccggggtcacgactaaaaagctcgtacgcgcgctacgcccgatccaggaacaaaccatcctttatcaaggccacgaaattcgttccagtgatcccatcccaccccaagcccaagaaatcctagagaatctgggtcactaa\tMGFEQAIRDNVFEQLVLARIVEPASKADTIRILDELGVEHASLRTIFTTLRRCADKDYRSQLARACFDHATKSGDLSLVLYDVTTLYFEAEREDEDGDANEGLRKVGYSKERRVDPQIVVGLLVDRGGFPLEIGCFEGNKAETKTILPVVKGFQARHGLDSFVVVADAGMLSANNLKELDAAGFRFIVGARQTKAPYDLESHFHWHGASFTDGQIIDTVTPRHANTKVNDKLKEDEPVWDETMVKSWRAIWQYSARRARRDGLTLEAQRRRAMETIEGVKPARKPRFVKTTRNGCSFDEVAFERARRLEGLKGYVTNIPAVVAPATQIVDSYHELWHVEQSFRMSKSDLRARPIFHRKREAIEAHLTVVMAALAISRYLYQKTGVTTKKLVRALRPIQEQTILYQGHEIRSSDPIPPQAQEILENLGH\r\n",
      "gi|512025806|gb|AGWM01000014.1|\tfig|6666666.104566.peg.2\tpeg\tgi|512025806|gb|AGWM01000014.1|_1334_657\t1334\t657\t-\tcAMP-binding proteins - catabolite gene activator and regulatory subunit of cAMP-dependent protein kinases\t\tFIG00003090\tisu;cAMP_signaling_in_bacteria\tatggataccagcgttttacgaaccgtgccccttttcaaggacatggatgaggaaagtctcgccgctctcggcgcgatgatgagcgatacctcccttaagcggggcgaatcgcttttccacgaaggcgaccagggtgatcgcctttatattgtcaccgatggcaaggtgaagctcagtcacacgtctgatgacgggcgcgaaaacctgctcgccgttctcggccccggggaaatcatcggtgaactttcgctctttgacctgggggctcgttcctctaccgtcaccgctattgcgccgacgcatctgctttccctcgcgcatcgcgatatgaagaatttcatcgaggaacatcccaccctcgccatgtcgatgctccgtgaaatggcgcgtcgcctgcgcaatactaatgagaatcttgctgacctggtgttctccgatgttcccggccgtgtggcgaaggcgctgctcgacctggccaatcgtttcggcgaacgcactcccgaaggcatgtacgttgcgcacgatctcacgcaggaagaactcgcgcatctcgtgggagcttcgcgtgaaacggttaataagtctctcgctgatttcgtctcccgcgggtggattcggctcgaaggccgcgccgtgctactcctggagattggccggttgcagcgccgcgcccactag\tMDTSVLRTVPLFKDMDEESLAALGAMMSDTSLKRGESLFHEGDQGDRLYIVTDGKVKLSHTSDDGRENLLAVLGPGEIIGELSLFDLGARSSTVTAIAPTHLLSLAHRDMKNFIEEHPTLAMSMLREMARRLRNTNENLADLVFSDVPGRVAKALLDLANRFGERTPEGMYVAHDLTQEELAHLVGASRETVNKSLADFVSRGWIRLEGRAVLLLEIGRLQRRAH\r\n",
      "gi|512025806|gb|AGWM01000014.1|\tfig|6666666.104566.peg.3\tpeg\tgi|512025806|gb|AGWM01000014.1|_2382_1447\t2382\t1447\t-\tEpoxide hydrolase\t\t\t\tatgagctcacttcccgccgataattcctgcgtctggatccccggaccgtgggagcatcgcctcgtgaccgccaacggtgcgcaattccacctggcctacgccgggagccactcaacccgtaccccgctggtgctgttcgtgcatagctacccggaatactggtatgcctggcgccaccagatagaacccgtggcgcgggccggttacgaagttgcggccgtagacctgcgcggggtgggtggaagcgataaaactccctcggtgcaatctgggcccgaactggcccaggaccttatttcgctcaccgaatccctgggggcaagttctgcggtgatcgtggcggccggttccaatgcggcgctcgggtgggcggcggcggcgatggcccccgatattattaccggactcgtgacggtagccagcccgcacccgctcgggctgcgccatttggggcgcggtattcgcccgcgaggtctgctcggtttgctgacgtcgcggctggggaaccgctctccgcgcgcgctcggggacgtgcgcaagatgcgccgtttgctcctggaatggtccgccccgcacagccacggtgcggcaggggaggccgaacagtacgccgctgcgatgcgcctcccggaagccgcgacaagcgcggtggaacaattacgctggaccgccacgtggcggcgccgcccctccgggaaagcctggcgcgatatcctttccactcccgtggacgcgcctgtctgggcggtgcgtggccttgctgatcgcatgattactgaacgggcctgggctgatgaccgttctttcgccaccggctcctaccggctcatcgccgtgccgggcgccgggcatttcatccctgaagagtccccgcgtgaattcacgaatatcgtgctggatttcctttcccagctcgagaggtccgcacggcggtag\tMSSLPADNSCVWIPGPWEHRLVTANGAQFHLAYAGSHSTRTPLVLFVHSYPEYWYAWRHQIEPVARAGYEVAAVDLRGVGGSDKTPSVQSGPELAQDLISLTESLGASSAVIVAAGSNAALGWAAAAMAPDIITGLVTVASPHPLGLRHLGRGIRPRGLLGLLTSRLGNRSPRALGDVRKMRRLLLEWSAPHSHGAAGEAEQYAAAMRLPEAATSAVEQLRWTATWRRRPSGKAWRDILSTPVDAPVWAVRGLADRMITERAWADDRSFATGSYRLIAVPGAGHFIPEESPREFTNIVLDFLSQLERSARR\r\n",
      "gi|512025806|gb|AGWM01000014.1|\tfig|6666666.104566.peg.4\tpeg\tgi|512025806|gb|AGWM01000014.1|_3867_2455\t3867\t2455\t-\tFe-S oxidoreductase\t\t\t\tatgtctacgccaaatgacccgtacaataccgcgtcgcgccggccactggatgatgacgatattctcgagcccattgccgaggaccatctcgcggaccaagaaaccgcttacctccccgccacgcagcctcccgcttccgcccccgttttttctcacgacgacgctccgctcccgccggcttatcccgcagcagaaaccaccagcgagtcctcccctctgagtgattccgctccggcgagcgccgccgcgaacgaacccgaaggcgaagccgctgaccggcccgagcccgcacccgaatccgcgaagcaggcagccccggctcagtccgctccggaacaatccggggccgaacaggcagccgacgaagaactcgctgaaaccacctcggcggcggcaatcactcccgcggaggcacccgttcccgtcaacaccactacccttggggaaagcaccgggcccaccactccagaagcgcccgcaccggaggagacaacgcccgcgccggccgcgccgcgtcgtcgttccgtttctgaatcactggcagcaggcacgttcgatgagagctaccacacggaaacctccgcagctccggaccgcgaatacgcaaacctcgcgcaggcagccggcgtaaccgcaaccgttccggcagcgtccgcgggcccggaagtcaccgccaccgcggctgttgatccctacgcgggggcgggcacggatccttacgtatccggggaagcgaccgcaaccgcgctctatccgcaggccggcgaacccgccgcagagcccaccacagcccccgccgcggggcttgacggcccggtcttcccggccgtgcgcgaggaaagcttggaagatcagcgcacctgggcggatattgccgaaatggagccgattccggatgccccgaaggggcgggtgtggacccatatctggacctcggtggtcacgttgctcctgctccccctgacctggtatctcatttcggacgcggtggcacgcctgcacctggcccgccccgtcgcgctggaaacagccccggtcaattgggcggcgctggcggaactggccggcggcatcgccctgctcgtcgttatcgcgctgctcgcgcgcctctcctccctgggcacgcagctgtggggctggatcctggtcgttgcgggtctcgcggggctcgtgattcccaatgtggcgctgcgcggggtgcactgggtggattccctcatcggcggctacaagccggtcacggataatatcgtgcaccatttcgcctacgatcttgctttcggtggattcatcctgctgggcgccgccctggcgaccatcggattcgcggcgcacggggcgcgctccctcggttcgcggcgcgcgcgggctttcacggtgcgcgaataccgcctccccgaggatgaagcataa\tMSTPNDPYNTASRRPLDDDDILEPIAEDHLADQETAYLPATQPPASAPVFSHDDAPLPPAYPAAETTSESSPLSDSAPASAAANEPEGEAADRPEPAPESAKQAAPAQSAPEQSGAEQAADEELAETTSAAAITPAEAPVPVNTTTLGESTGPTTPEAPAPEETTPAPAAPRRRSVSESLAAGTFDESYHTETSAAPDREYANLAQAAGVTATVPAASAGPEVTATAAVDPYAGAGTDPYVSGEATATALYPQAGEPAAEPTTAPAAGLDGPVFPAVREESLEDQRTWADIAEMEPIPDAPKGRVWTHIWTSVVTLLLLPLTWYLISDAVARLHLARPVALETAPVNWAALAELAGGIALLVVIALLARLSSLGTQLWGWILVVAGLAGLVIPNVALRGVHWVDSLIGGYKPVTDNIVHHFAYDLAFGGFILLGAALATIGFAAHGARSLGSRRARAFTVREYRLPEDEA\r\n",
      "gi|512025806|gb|AGWM01000014.1|\tfig|6666666.104566.peg.5\tpeg\tgi|512025806|gb|AGWM01000014.1|_4254_5231\t4254\t5231\t+\tSeptum site-determining protein MinD @ possible CpaE\t\t\tisu;Septum_site-determining_cluster_Min isu;Bacterial_Cell_Division isu;Bacterial_Cytoskeleton\tatgcgggaggtggaagccgttacggaactggccggaatacaggtggcgcgtggatcaccgggggtagctgcgccgccggccatacttgaattagaggaaatctcggcggccctgcccacggtccgcgcgcgtttccacccggtcctcgccaattattttccgcgcggatcggtagtcgtggagcttccacgccaagcagaagacctgctcgaactagttttggcggccgggcaaactcggcgcgggcgcattattgggatcgccggggtacgtggcgggataggggtatcgatgctgacggcctggcttgcgtcgctgagtatcacgcgcactgccgtggtggatgcggatccgctctcagccgggcttgaactcctcatggggtttcaggaaaaacgcggggcgcgctgggctgatattgcccacgcggaaggcatgctcatcccgcaacggctccgggcggccctgccggcacgcgggcaactgagtctcctcagcgcggatgtgcgcggcggagcgcccgcgggtggggacgcggttccacatgccatcgatgcgctttcccaagctagcgacaccacctacgttgatctcccacgcagctccttgctgcttgggagcgagccggcacgttggcgggcctggtgcgatgtggtggtgctcgttaccgaggtgactggccgcgatgcccgggccctccccagaatccttcgtgatgtgggggagagcactccagtggtgatcgcagcgcgatgcactcacaaagtagaggcgcaggccttcggtgtggatatcggccagaaggtgattcccgtgcggcgcctgcgcggtttggatgaggacctcgcgcacggcgttgttgtgggtgaacagcgccggtccgggaccgcgcgtgacgttacgcagctcgccgcgcatctcgatgaggttctgggcggtggctcaggggtgaatcgatggatagcacgggggaactaa\tMREVEAVTELAGIQVARGSPGVAAPPAILELEEISAALPTVRARFHPVLANYFPRGSVVVELPRQAEDLLELVLAAGQTRRGRIIGIAGVRGGIGVSMLTAWLASLSITRTAVVDADPLSAGLELLMGFQEKRGARWADIAHAEGMLIPQRLRAALPARGQLSLLSADVRGGAPAGGDAVPHAIDALSQASDTTYVDLPRSSLLLGSEPARWRAWCDVVVLVTEVTGRDARALPRILRDVGESTPVVIAARCTHKVEAQAFGVDIGQKVIPVRRLRGLDEDLAHGVVVGEQRRSGTARDVTQLAAHLDEVLGGGSGVNRWIARGN\r\n",
      "gi|512025806|gb|AGWM01000014.1|\tfig|6666666.104566.peg.6\tpeg\tgi|512025806|gb|AGWM01000014.1|_5210_6388\t5210\t6388\t+\tType II/IV secretion system ATP hydrolase TadA/VirB11/CpaF, TadA subfamily\t\tFIG00001036\tisu;Widespread_colonization_island\tatggatagcacgggggaactaaatctggcccgttcccgcgggaacttggctcgtacccgccgggagctagcccgcggcatcagcgtgcccggggtgctcgccaccgtggcgccgcacgccgttggaataaaaaacgtgctgggagcggcacgggatatcaacgcggtggcccgcggctggggcccgcagctgcggcgcgtgattgaagacccctccgtcaccgatattttgatcaacggcggtaccggggtgtggctggatcgcggaaatggactggaacgcgacgaacccttgagcgccttgctggtcgatcctggggaagtacgcgcactcgcggtacgtttagctgccggcgctggccagcgtttggacgacgccgcgcctattgccgatggcaccttctccaatggaacgcgcttgcatgcggtcctggctccgctggccgcggaaggagctgcgatctcgctgcgtactcaacgggcccgcacctttacgctcgccgagcttcaggatgcgggcacattccccgcagcgcttatgccggtgttgcgagccctggtggagcagcgcgctaacgtcatggtcgcgggtgctaccggatcggggaaaaccacattattagcctctctgctcagctgcgtaccggccaccgaacggctcatcattattgaggaagcttcagaattgcggcccgcgcatccgcatgtgttgcacctgcaaattcgccgccccaatgtggaaggccacggtgaaattaccatgagccaattggtgcgggccgccttgcggatgcgcccggatcggatcgtggtgggggaatgccgaggagaagaagtgcgtgaggtacttaccgcgctcaataccgggcacgaaggaggatgggcgaccatccatgccaattcggcgcgtgatgttcccgcccggctcgtggctctcggcgcattggcaggaatgtctgccgcggtggtcgccgcacaggcggtcgcggccctcgacgccattatttccattgaacgccacgggccactccggcgcatcacccgcgtggctatcctccgcagccacaatggcattcttgaagccccggatgccttggaggtgggtgccgatggcactatccacgccggacccgggtgggccaccctgggttcgcgtttaggactggaggtgacatggtaa\tMDSTGELNLARSRGNLARTRRELARGISVPGVLATVAPHAVGIKNVLGAARDINAVARGWGPQLRRVIEDPSVTDILINGGTGVWLDRGNGLERDEPLSALLVDPGEVRALAVRLAAGAGQRLDDAAPIADGTFSNGTRLHAVLAPLAAEGAAISLRTQRARTFTLAELQDAGTFPAALMPVLRALVEQRANVMVAGATGSGKTTLLASLLSCVPATERLIIIEEASELRPAHPHVLHLQIRRPNVEGHGEITMSQLVRAALRMRPDRIVVGECRGEEVREVLTALNTGHEGGWATIHANSARDVPARLVALGALAGMSAAVVAAQAVAALDAIISIERHGPLRRITRVAILRSHNGILEAPDALEVGADGTIHAGPGWATLGSRLGLEVTW\r\n",
      "gi|512025806|gb|AGWM01000014.1|\tfig|6666666.104566.peg.7\tpeg\tgi|512025806|gb|AGWM01000014.1|_6660_6472\t6660\t6472\t-\thypothetical protein\t\t\t\tgtgatcagcgcccgaatcaatgcgggccgcgacttccaccgcgagcaggccggcgtcaaaactgggcggggaatcacgcttgcgccggctccgcggcacgcgctgaccacgcctgccacgcccaccacgcctgccacgcccatcacagctgtcacggctggctatttcgcttctcgggaagaagattga\tMISARINAGRDFHREQAGVKTGRGITLAPAPRHALTTPATPTTPATPITAVTAGYFASREED\r\n",
      "gi|512025806|gb|AGWM01000014.1|\tfig|6666666.104566.peg.8\tpeg\tgi|512025806|gb|AGWM01000014.1|_6994_7179\t6994\t7179\t+\thypothetical protein\t\t\t\tgtgaaaatgctcgccgccatgccccttttcggcatgctcctcggctcgttttttggaggtaatcccgtcattttcctcgttggaaccccgatcgggcgatgctgctttgctttggcgcttatctgcgaggtggccggtatcgtatggatgcgtcgcctggtcaggaaagcagagcaatggggctga\tMKMLAAMPLFGMLLGSFFGGNPVIFLVGTPIGRCCFALALICEVAGIVWMRRLVRKAEQWG\r\n",
      "gi|512025806|gb|AGWM01000014.1|\tfig|6666666.104566.peg.9\tpeg\tgi|512025806|gb|AGWM01000014.1|_7170_7730\t7170\t7730\t+\tFIG054221: Possible conserved alanine rich membrane protein\t\t\t\tatggggctgatcctgtgccttctggttcttcttctcgcccgggtgtggatgcccgctgccgggcggggttcggtcaggcgggattccccgttccggtcgagtgcggcgcatcgatccgggcggcgcctgcctccctccgatccggcgtttttggccgacctcgcgcgggtggctctctcctccggtgcctcacttccggctgcactcgaagcagtatctttcgccgtcgcggaagaatacgcccgtctcgatataggtacgacggcgcagcttctcctgctgggcgcaccttgggccgaggcgtgggatggaatacacccacgcgcccacctgctgcgcgaggccctccagccagcttgggagaacggggtagccccactcaccctgcttggcacggccgctcgcagctaccggcgtcgtcgttctagagaagcgcgccgcgcggcggccgaactcggcaatagccttgtggtgcctttaggcgtgtgtttcctaccagcatttattctcgtgggaattgttccagcggtgggtggcgcagccgccggtcttttccaataa\tMGLILCLLVLLLARVWMPAAGRGSVRRDSPFRSSAAHRSGRRLPPSDPAFLADLARVALSSGASLPAALEAVSFAVAEEYARLDIGTTAQLLLLGAPWAEAWDGIHPRAHLLREALQPAWENGVAPLTLLGTAARSYRRRRSREARRAAAELGNSLVVPLGVCFLPAFILVGIVPAVGGAAAGLFQ\r\n"
     ]
    }
   ],
   "source": [
    "!head data/annotations/220925.txt"
   ]
  },
  {
   "cell_type": "markdown",
   "metadata": {},
   "source": [
    "### Bindings\n",
    "The bindings directory located inside data contains the annotation files with the metabolic subsystem. This file can be obtain from RAST tarball option, to construct ActDES, all files are available at ZENODO database."
   ]
  },
  {
   "cell_type": "code",
   "execution_count": 18,
   "metadata": {},
   "outputs": [
    {
     "name": "stdout",
     "output_type": "stream",
     "text": [
      "220925.bindings  220965.bindings  221048.bindings  221107.bindings\r\n",
      "220932.bindings  221022.bindings  221050.bindings\r\n",
      "220933.bindings  221031.bindings  221059.bindings\r\n"
     ]
    }
   ],
   "source": [
    "ls data/bindings"
   ]
  },
  {
   "cell_type": "code",
   "execution_count": 19,
   "metadata": {},
   "outputs": [
    {
     "name": "stdout",
     "output_type": "stream",
     "text": [
      "16S_rRNA_modification_within_P_site_of_ribosome\tCell division protein FtsI [Peptidoglycan synthetase] (EC 2.4.1.129)\tfig|6666666.104566.peg.918\r\n",
      "16S_rRNA_modification_within_P_site_of_ribosome\tCell division protein FtsI [Peptidoglycan synthetase] (EC 2.4.1.129)\tfig|6666666.104566.peg.1342\r\n",
      "16S_rRNA_modification_within_P_site_of_ribosome\tCell division protein MraZ\tfig|6666666.104566.peg.915\r\n",
      "16S_rRNA_modification_within_P_site_of_ribosome\trRNA small subunit methyltransferase H\tfig|6666666.104566.peg.916\r\n",
      "16S_rRNA_modification_within_P_site_of_ribosome\trRNA small subunit methyltransferase I\tfig|6666666.104566.peg.371\r\n",
      "2-phosphoglycolate_salvage\tPhosphoglycolate phosphatase (EC 3.1.3.18)\tfig|6666666.104566.peg.979\r\n",
      "5-FCL-like_protein\t5-formyltetrahydrofolate cyclo-ligase (EC 6.3.3.2)\tfig|6666666.104566.peg.390\r\n",
      "5-FCL-like_protein\tAlcohol dehydrogenase (EC 1.1.1.1)\tfig|6666666.104566.peg.31\r\n",
      "5-FCL-like_protein\tAlcohol dehydrogenase (EC 1.1.1.1)\tfig|6666666.104566.peg.224\r\n",
      "5-FCL-like_protein\tAlcohol dehydrogenase (EC 1.1.1.1)\tfig|6666666.104566.peg.655\r\n"
     ]
    }
   ],
   "source": [
    "!head data/bindings/220925.bindings"
   ]
  },
  {
   "cell_type": "markdown",
   "metadata": {},
   "source": [
    "Now lets see the output content  \n",
    "3. Using `ls` in output directory we will see an example of output, that we will reproduce at the final of this brief tutorial. Files are provided just to to provide the user an example about how they should look."
   ]
  },
  {
   "cell_type": "code",
   "execution_count": 22,
   "metadata": {},
   "outputs": [
    {
     "name": "stdout",
     "output_type": "stream",
     "text": [
      "example-FunctionTable.csv  example-PegsTable.csv\r\n"
     ]
    }
   ],
   "source": [
    "ls output"
   ]
  },
  {
   "cell_type": "markdown",
   "metadata": {},
   "source": [
    "In the example-FunctionTable.csv file we see in each row a functional annotation and in each column an organism. The numbers on each column/row indicates how many gene copies does the organism have in that function."
   ]
  },
  {
   "cell_type": "code",
   "execution_count": 26,
   "metadata": {},
   "outputs": [
    {
     "name": "stdout",
     "output_type": "stream",
     "text": [
      "FUNCTION\tActinobaculum schaalii FB123-CNA-2 AGWM01\tActinobaculum schaalii DSM 15541 AUBK01\tActinobaculum sp. oral taxon 183 str. F0552 AWSB01\tActinobaculum massiliae ACS-171-V-Col2 AGWL01\tActinobaculum urinale DSM 15805 ATUY01\tActinoalloteichus cyanogriseus JOAL01\tActinocatenispora sera JOEG01\tActinoalloteichus cyanogriseus DSM 43889 AUBJ01\tActinoalloteichus cyanogriseus JODV01\tActinokineospora enzanensis DSM 44649 ARFV01\t\r\n",
      "(2E,6E)-farnesyl diphosphate synthase (EC 2.5.1.10)\t1\t1\t1\t1\t1\t2\t4\t1\t2\t0\t\r\n",
      "(2E,6Z)-farnesyl diphosphate synthase (EC 2.5.1.68)\t0\t0\t0\t0\t0\t1\t0\t0\t0\t1\t\r\n"
     ]
    }
   ],
   "source": [
    "!head -n 3 output/example-FunctionTable.csv"
   ]
  },
  {
   "cell_type": "markdown",
   "metadata": {},
   "source": [
    "In the example-PegsTable.csv file we see which gene corresponds to the copies counted in the example-FunctionTables.csv file. For example fig|6666666.104574.peg.258, corresponds to genome 6666666.104574 gen 258"
   ]
  },
  {
   "cell_type": "markdown",
   "metadata": {},
   "source": [
    "Finally the src directory contains the scripts to extract files from RAST and to obtain the already described tables. \n",
    "4. Lets type `ls` to know the content of src"
   ]
  },
  {
   "cell_type": "code",
   "execution_count": 28,
   "metadata": {},
   "outputs": [
    {
     "name": "stdout",
     "output_type": "stream",
     "text": [
      "F0_ExtractFiles.pl  F1_FunctionCountBindings.pl\r\n"
     ]
    }
   ],
   "source": [
    "ls src"
   ]
  },
  {
   "cell_type": "markdown",
   "metadata": {},
   "source": [
    "## Obtaining the tables.\n",
    "\n",
    "To obtain the tables, lets run the F1_FunctionCountBindings.pl. This files requires as input an IDs file. We will use in this case the file headIDs, that contains the first ten genomes of the ActDES Database. First we are going to see the content of headIDs using the command `cat`, after that we will run the perl script \"src/F1_FunctionCountBindings.pl\""
   ]
  },
  {
   "cell_type": "code",
   "execution_count": 35,
   "metadata": {},
   "outputs": [
    {
     "name": "stdout",
     "output_type": "stream",
     "text": [
      "\r\n",
      "\r\n",
      "\r\n",
      "\r\n",
      "\r\n",
      "\r\n",
      "\r\n",
      "\r\n",
      "\r\n",
      "\r\n"
     ]
    }
   ],
   "source": [
    "cat data/headIDs"
   ]
  },
  {
   "cell_type": "code",
   "execution_count": 30,
   "metadata": {},
   "outputs": [
    {
     "name": "stdout",
     "output_type": "stream",
     "text": [
      "221050 => Actinoalloteichus cyanogriseus DSM 43889 AUBJ01\n",
      "221031 => Actinoalloteichus cyanogriseus JOAL01\n",
      "221059 => Actinoalloteichus cyanogriseus JODV01\n",
      "220965 => Actinobaculum massiliae ACS-171-V-Col2 AGWL01\n",
      "220932 => Actinobaculum schaalii DSM 15541 AUBK01\n",
      "220925 => Actinobaculum schaalii FB123-CNA-2 AGWM01\n",
      "220933 => Actinobaculum sp. oral taxon 183 str. F0552 AWSB01\n",
      "221022 => Actinobaculum urinale DSM 15805 ATUY01\n",
      "221048 => Actinocatenispora sera JOEG01\n",
      "221107 => Actinokineospora enzanensis DSM 44649 ARFV01\n",
      "genome: data/bindings/220925.bindings count 0\n",
      "genome: data/bindings/220932.bindings count 1\n",
      "genome: data/bindings/220933.bindings count 2\n",
      "genome: data/bindings/220965.bindings count 3\n",
      "genome: data/bindings/221022.bindings count 4\n",
      "genome: data/bindings/221031.bindings count 5\n",
      "genome: data/bindings/221048.bindings count 6\n",
      "genome: data/bindings/221050.bindings count 7\n",
      "genome: data/bindings/221059.bindings count 8\n",
      "genome: data/bindings/221107.bindings count 9\n",
      "#220925# => #Actinobaculum schaalii FB123-CNA-2 AGWM01#\n",
      "#220932# => #Actinobaculum schaalii DSM 15541 AUBK01#\n",
      "#220933# => #Actinobaculum sp. oral taxon 183 str. F0552 AWSB01#\n",
      "#220965# => #Actinobaculum massiliae ACS-171-V-Col2 AGWL01#\n",
      "#221022# => #Actinobaculum urinale DSM 15805 ATUY01#\n",
      "#221031# => #Actinoalloteichus cyanogriseus JOAL01#\n",
      "#221048# => #Actinocatenispora sera JOEG01#\n",
      "#221050# => #Actinoalloteichus cyanogriseus DSM 43889 AUBJ01#\n",
      "#221059# => #Actinoalloteichus cyanogriseus JODV01#\n",
      "#221107# => #Actinokineospora enzanensis DSM 44649 ARFV01#\n"
     ]
    },
    {
     "name": "stderr",
     "output_type": "stream",
     "text": [
      "Smartmatch is experimental at src/F1_FunctionCountBindings.pl line 85.\n"
     ]
    }
   ],
   "source": [
    "%%perl\n",
    "\n",
    "use strict;\n",
    "use warnings;\n",
    "\n",
    "system(\"perl src/F1_FunctionCountBindings.pl headIDs\")"
   ]
  },
  {
   "cell_type": "markdown",
   "metadata": {},
   "source": [
    "And when we check the output contain again we will see that there are two new files: FunctionTable.csv and  PegsTable.csv. These files had been produced for the script and as we can see they are the same as their corresponding examples."
   ]
  },
  {
   "cell_type": "code",
   "execution_count": 32,
   "metadata": {},
   "outputs": [
    {
     "name": "stdout",
     "output_type": "stream",
     "text": [
      "example-FunctionTable.csv  FunctionTable.csv\r\n",
      "example-PegsTable.csv      PegsTable.csv\r\n"
     ]
    }
   ],
   "source": [
    "ls output"
   ]
  },
  {
   "cell_type": "code",
   "execution_count": 36,
   "metadata": {},
   "outputs": [
    {
     "name": "stdout",
     "output_type": "stream",
     "text": [
      "FUNCTION\tActinobaculum schaalii FB123-CNA-2 AGWM01\tActinobaculum schaalii DSM 15541 AUBK01\tActinobaculum sp. oral taxon 183 str. F0552 AWSB01\tActinobaculum massiliae ACS-171-V-Col2 AGWL01\tActinobaculum urinale DSM 15805 ATUY01\tActinoalloteichus cyanogriseus JOAL01\tActinocatenispora sera JOEG01\tActinoalloteichus cyanogriseus DSM 43889 AUBJ01\tActinoalloteichus cyanogriseus JODV01\tActinokineospora enzanensis DSM 44649 ARFV01\t\r\n",
      "(2E,6E)-farnesyl diphosphate synthase (EC 2.5.1.10)\t1\t1\t1\t1\t1\t2\t4\t1\t2\t0\t\r\n",
      "(2E,6Z)-farnesyl diphosphate synthase (EC 2.5.1.68)\t0\t0\t0\t0\t0\t1\t0\t0\t0\t1\t\r\n",
      "(R)-citramalate synthase (EC 2.3.1.182)\t0\t0\t0\t0\t0\t1\t1\t1\t1\t1\t\r\n",
      "(S)-2-hydroxy-acid oxidase (EC 1.1.3.15)\t0\t0\t0\t0\t0\t1\t0\t1\t1\t0\t\r\n",
      "1,2-dihydroxy-3-keto-5-methylthiopentene dioxygenase (EC 1.13.11.54)\t0\t0\t0\t0\t0\t1\t0\t1\t1\t1\t\r\n",
      "1,4-alpha-glucan (glycogen) branching enzyme, GH-13-type (EC 2.4.1.18)\t2\t2\t1\t1\t1\t0\t1\t0\t0\t1\t\r\n",
      "1,4-dihydroxy-2-naphthoate polyprenyltransferase (EC 2.5.1.74)\t0\t1\t0\t1\t0\t1\t0\t1\t1\t2\t\r\n",
      "1,4-dihydroxy-2-naphthoyl-CoA hydrolase (EC 3.1.2.28) in phylloquinone biosynthesis\t0\t0\t0\t0\t0\t0\t0\t0\t0\t1\t\r\n",
      "1-acyl-sn-glycerol-3-phosphate acyltransferase (EC 2.3.1.51)\t0\t0\t0\t0\t1\t3\t3\t4\t4\t7\t\r\n"
     ]
    }
   ],
   "source": [
    "!head output/FunctionTable.csv"
   ]
  },
  {
   "cell_type": "code",
   "execution_count": 37,
   "metadata": {},
   "outputs": [
    {
     "name": "stdout",
     "output_type": "stream",
     "text": [
      "FUNCTION\tActinobaculum schaalii FB123-CNA-2 AGWM01\tActinobaculum schaalii DSM 15541 AUBK01\tActinobaculum sp. oral taxon 183 str. F0552 AWSB01\tActinobaculum massiliae ACS-171-V-Col2 AGWL01\tActinobaculum urinale DSM 15805 ATUY01\tActinoalloteichus cyanogriseus JOAL01\tActinocatenispora sera JOEG01\tActinoalloteichus cyanogriseus DSM 43889 AUBJ01\tActinoalloteichus cyanogriseus JODV01\tActinokineospora enzanensis DSM 44649 ARFV01\t\r\n",
      "(2E,6E)-farnesyl diphosphate synthase (EC 2.5.1.10)\tfig|6666666.104566.peg.1532\tfig|6666666.104573.peg.905\tfig|6666666.104574.peg.258\tfig|6666666.104604.peg.1224\tfig|6666666.104655.peg.797\tfig|6666666.104664.peg.1649,fig|6666666.104664.peg.3776\tfig|6666666.104681.peg.291,fig|6666666.104681.peg.292,fig|6666666.104681.peg.1002,fig|6666666.104681.peg.3564\tfig|6666666.104683.peg.875\tfig|6666666.104692.peg.2305,fig|6666666.104692.peg.2531\t\t\r\n",
      "(2E,6Z)-farnesyl diphosphate synthase (EC 2.5.1.68)\t\t\t\t\t\tfig|6666666.104664.peg.4247\t\t\t\tfig|6666666.104740.peg.3193\t\r\n",
      "(R)-citramalate synthase (EC 2.3.1.182)\t\t\t\t\t\tfig|6666666.104664.peg.4527\tfig|6666666.104681.peg.2017\tfig|6666666.104683.peg.4444\tfig|6666666.104692.peg.4474\tfig|6666666.104740.peg.2007\t\r\n",
      "(S)-2-hydroxy-acid oxidase (EC 1.1.3.15)\t\t\t\t\t\tfig|6666666.104664.peg.1545\t\tfig|6666666.104683.peg.768\tfig|6666666.104692.peg.1742\t\t\r\n",
      "1,2-dihydroxy-3-keto-5-methylthiopentene dioxygenase (EC 1.13.11.54)\t\t\t\t\t\tfig|6666666.104664.peg.162\t\tfig|6666666.104683.peg.2415\tfig|6666666.104692.peg.193\tfig|6666666.104740.peg.5076\t\r\n",
      "1,4-alpha-glucan (glycogen) branching enzyme, GH-13-type (EC 2.4.1.18)\tfig|6666666.104566.peg.1459,fig|6666666.104566.peg.1461\tfig|6666666.104573.peg.283,fig|6666666.104573.peg.284\tfig|6666666.104574.peg.502\tfig|6666666.104604.peg.1160\tfig|6666666.104655.peg.744\t\tfig|6666666.104681.peg.6462\t\t\tfig|6666666.104740.peg.2141\t\r\n",
      "1,4-dihydroxy-2-naphthoate polyprenyltransferase (EC 2.5.1.74)\t\tfig|6666666.104573.peg.902\t\tfig|6666666.104604.peg.1227\t\tfig|6666666.104664.peg.3751\t\tfig|6666666.104683.peg.4302\tfig|6666666.104692.peg.2562\tfig|6666666.104740.peg.4898,fig|6666666.104740.peg.5851\t\r\n",
      "1,4-dihydroxy-2-naphthoyl-CoA hydrolase (EC 3.1.2.28) in phylloquinone biosynthesis\t\t\t\t\t\t\t\t\t\tfig|6666666.104740.peg.5176\t\r\n",
      "1-acyl-sn-glycerol-3-phosphate acyltransferase (EC 2.3.1.51)\t\t\t\t\tfig|6666666.104655.peg.1278\tfig|6666666.104664.peg.1975,fig|6666666.104664.peg.4538,fig|6666666.104664.peg.4762\tfig|6666666.104681.peg.1202,fig|6666666.104681.peg.1999,fig|6666666.104681.peg.2825\tfig|6666666.104683.peg.1714,fig|6666666.104683.peg.3339,fig|6666666.104683.peg.3449,fig|6666666.104683.peg.4430\tfig|6666666.104692.peg.3625,fig|6666666.104692.peg.4129,fig|6666666.104692.peg.4240,fig|6666666.104692.peg.4460\tfig|6666666.104740.peg.1995,fig|6666666.104740.peg.2050,fig|6666666.104740.peg.3897,fig|6666666.104740.peg.4033,fig|6666666.104740.peg.4597,fig|6666666.104740.peg.5640,fig|6666666.104740.peg.6369\t\r\n"
     ]
    }
   ],
   "source": [
    "!head output/PegsTable.csv"
   ]
  },
  {
   "cell_type": "markdown",
   "metadata": {},
   "source": [
    "And we have finished this small tutorial. So if you want to use your own data be sure to have your RAST data, your IDs file, and a similar structure of directories with data, src and output. "
   ]
  },
  {
   "cell_type": "code",
   "execution_count": null,
   "metadata": {},
   "outputs": [],
   "source": []
  }
 ],
 "metadata": {
  "kernelspec": {
   "display_name": "Python 3",
   "language": "python",
   "name": "python3"
  },
  "language_info": {
   "codemirror_mode": {
    "name": "ipython",
    "version": 3
   },
   "file_extension": ".py",
   "mimetype": "text/x-python",
   "name": "python",
   "nbconvert_exporter": "python",
   "pygments_lexer": "ipython3",
   "version": "3.7.8"
  }
 },
 "nbformat": 4,
 "nbformat_minor": 4
}
